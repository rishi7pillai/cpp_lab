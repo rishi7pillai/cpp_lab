{
 "cells": [
  {
   "cell_type": "code",
   "execution_count": 1,
   "metadata": {},
   "outputs": [
    {
     "name": "stdout",
     "output_type": "stream",
     "text": [
      "Enter the no of element:5\n",
      "Enter the elements:\n",
      "-2 \n",
      "-1\n",
      "5\n",
      "-3\n",
      "4\n",
      "Negative Numbers Are:\n",
      "-2 -1 -3 "
     ]
    }
   ],
   "source": [
    "import numpy as np\n",
    "l1=[]\n",
    "n=int(input(\"Enter the no of element:\"))\n",
    "print(\"Enter the elements:\")\n",
    "for i in range(n):\n",
    "    l1.append(int(input()))\n",
    "arr=np.array(l1)\n",
    "print(\"Negative Numbers Are:\")\n",
    "for i in arr:\n",
    "    if i<0:\n",
    "        print(i,end=\" \")"
   ]
  }
 ],
 "metadata": {
  "kernelspec": {
   "display_name": "Python 3",
   "language": "python",
   "name": "python3"
  },
  "language_info": {
   "codemirror_mode": {
    "name": "ipython",
    "version": 3
   },
   "file_extension": ".py",
   "mimetype": "text/x-python",
   "name": "python",
   "nbconvert_exporter": "python",
   "pygments_lexer": "ipython3",
   "version": "3.7.4"
  }
 },
 "nbformat": 4,
 "nbformat_minor": 2
}
