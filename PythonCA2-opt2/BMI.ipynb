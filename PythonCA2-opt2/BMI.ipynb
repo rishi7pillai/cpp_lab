{
 "cells": [
  {
   "cell_type": "code",
   "execution_count": 32,
   "metadata": {},
   "outputs": [
    {
     "name": "stdout",
     "output_type": "stream",
     "text": [
      "Enter Name Weight Height:\n",
      "ris 70 4\n",
      "sid 90 5\n",
      "ami 80 4\n",
      "anu 98 6\n",
      "sum 87 8\n",
      "dis 67 3\n",
      "res 89 3\n",
      "one 90 4\n",
      "tik 78 3\n",
      "tom 78 4\n",
      "cro 54 1\n",
      "ese 70 2\n",
      "teo 88 4\n",
      "sam 98 4\n",
      "dam 76 6\n",
      "git 97 6\n",
      "rit 87 5\n",
      "sie 65 1\n",
      "sia 96 5\n",
      "ani 65 2\n",
      "rid 65 3\n",
      "aie 34 2\n",
      "oee 90 4\n",
      "soe 87 6\n",
      "iti 56 2\n",
      "oes 77 3\n",
      "oas 88 5\n",
      "esa 76 5\n",
      "isa 56 3\n",
      "sea 66  6\n"
     ]
    }
   ],
   "source": [
    "import pandas as pd\n",
    "l1=[[] for i in range(30)]\n",
    "print(\"Enter Name Weight Height:\")\n",
    "for i in range(0,30):\n",
    "    data=input()\n",
    "    l1[i]=data.strip().split()"
   ]
  },
  {
   "cell_type": "code",
   "execution_count": 33,
   "metadata": {},
   "outputs": [
    {
     "data": {
      "text/plain": [
       "[[70, 4],\n",
       " [90, 5],\n",
       " [80, 4],\n",
       " [98, 6],\n",
       " [87, 8],\n",
       " [67, 3],\n",
       " [89, 3],\n",
       " [90, 4],\n",
       " [78, 3],\n",
       " [78, 4],\n",
       " [54, 1],\n",
       " [70, 2],\n",
       " [88, 4],\n",
       " [98, 4],\n",
       " [76, 6],\n",
       " [97, 6],\n",
       " [87, 5],\n",
       " [65, 1],\n",
       " [96, 5],\n",
       " [65, 2],\n",
       " [65, 3],\n",
       " [34, 2],\n",
       " [90, 4],\n",
       " [87, 6],\n",
       " [56, 2],\n",
       " [77, 3],\n",
       " [88, 5],\n",
       " [76, 5],\n",
       " [56, 3],\n",
       " [66, 6]]"
      ]
     },
     "execution_count": 33,
     "metadata": {},
     "output_type": "execute_result"
    }
   ],
   "source": [
    "l2=[[] for i in range(30)]\n",
    "l3=[]\n",
    "p=0\n",
    "for i in l1:\n",
    "    l3.append(i[0])\n",
    "    for j in i[1:]:\n",
    "        l2[p].append(int(j))\n",
    "    p+=1\n",
    "l2"
   ]
  },
  {
   "cell_type": "code",
   "execution_count": 34,
   "metadata": {},
   "outputs": [],
   "source": [
    "l4=[]\n",
    "for i in l2:\n",
    "    l4.append((i[0]//(i[1]*i[1])))"
   ]
  },
  {
   "cell_type": "code",
   "execution_count": 36,
   "metadata": {},
   "outputs": [
    {
     "name": "stdout",
     "output_type": "stream",
     "text": [
      "Name BMI\n",
      "ris 4 \n",
      "sid 3 \n",
      "ami 5 \n",
      "anu 2 \n",
      "sum 1 \n",
      "dis 7 \n",
      "res 9 \n",
      "one 5 \n",
      "tik 8 \n",
      "tom 4 \n",
      "cro 54 \n",
      "ese 17 \n",
      "teo 5 \n",
      "sam 6 \n",
      "dam 2 \n",
      "git 2 \n",
      "rit 3 \n",
      "sie 65 \n",
      "sia 3 \n",
      "ani 16 \n",
      "rid 7 \n",
      "aie 8 \n",
      "oee 5 \n",
      "soe 2 \n",
      "iti 14 \n",
      "oes 8 \n",
      "oas 3 \n",
      "esa 3 \n",
      "isa 6 \n",
      "sea 1 \n"
     ]
    }
   ],
   "source": [
    "l5=[[] for i in range(30)]\n",
    "for i in range(30):\n",
    "    l5[i].append(l3[i])\n",
    "    l5[i].append(l4[i])\n",
    "\n",
    "print(\"Name BMI\")\n",
    "for i in l5:\n",
    "    for j in i:\n",
    "        print(j,end=\" \")\n",
    "    print()\n",
    "        "
   ]
  },
  {
   "cell_type": "code",
   "execution_count": 30,
   "metadata": {},
   "outputs": [],
   "source": [
    "df=pd.DataFrame(l5,columns=['Name','BMI'])"
   ]
  },
  {
   "cell_type": "code",
   "execution_count": 31,
   "metadata": {},
   "outputs": [
    {
     "data": {
      "text/html": [
       "<div>\n",
       "<style scoped>\n",
       "    .dataframe tbody tr th:only-of-type {\n",
       "        vertical-align: middle;\n",
       "    }\n",
       "\n",
       "    .dataframe tbody tr th {\n",
       "        vertical-align: top;\n",
       "    }\n",
       "\n",
       "    .dataframe thead th {\n",
       "        text-align: right;\n",
       "    }\n",
       "</style>\n",
       "<table border=\"1\" class=\"dataframe\">\n",
       "  <thead>\n",
       "    <tr style=\"text-align: right;\">\n",
       "      <th></th>\n",
       "      <th>Name</th>\n",
       "      <th>BMI</th>\n",
       "    </tr>\n",
       "  </thead>\n",
       "  <tbody>\n",
       "    <tr>\n",
       "      <td>0</td>\n",
       "      <td>ram</td>\n",
       "      <td>2</td>\n",
       "    </tr>\n",
       "    <tr>\n",
       "      <td>1</td>\n",
       "      <td>sam</td>\n",
       "      <td>5</td>\n",
       "    </tr>\n",
       "  </tbody>\n",
       "</table>\n",
       "</div>"
      ],
      "text/plain": [
       "  Name  BMI\n",
       "0  ram    2\n",
       "1  sam    5"
      ]
     },
     "execution_count": 31,
     "metadata": {},
     "output_type": "execute_result"
    }
   ],
   "source": [
    "df"
   ]
  }
 ],
 "metadata": {
  "kernelspec": {
   "display_name": "Python 3",
   "language": "python",
   "name": "python3"
  },
  "language_info": {
   "codemirror_mode": {
    "name": "ipython",
    "version": 3
   },
   "file_extension": ".py",
   "mimetype": "text/x-python",
   "name": "python",
   "nbconvert_exporter": "python",
   "pygments_lexer": "ipython3",
   "version": "3.7.4"
  }
 },
 "nbformat": 4,
 "nbformat_minor": 2
}
